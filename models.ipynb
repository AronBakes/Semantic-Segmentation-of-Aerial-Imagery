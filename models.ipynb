{
 "cells": [
  {
   "cell_type": "code",
   "execution_count": null,
   "metadata": {
    "id": "K-6gOfQHmAor"
   },
   "outputs": [],
   "source": [
    "\n",
    "from tensorflow.keras import layers, models\n",
    "\n",
    "def test_models_sanity():\n",
    "    print(\"✅ from training.ipynb\")\n",
    "\n",
    "\n",
    "def build_unet(input_shape=(512, 512, 4), num_classes=6):\n",
    "    inputs = layers.Input(shape=input_shape)\n",
    "\n",
    "    # --- Contracting Path ---\n",
    "    c1 = layers.Conv2D(64, (3,3), activation='relu', padding='same')(inputs)\n",
    "    c1 = layers.Conv2D(64, (3,3), activation='relu', padding='same')(c1)\n",
    "    p1 = layers.MaxPooling2D((2,2))(c1)\n",
    "\n",
    "    c2 = layers.Conv2D(128, (3,3), activation='relu', padding='same')(p1)\n",
    "    c2 = layers.Conv2D(128, (3,3), activation='relu', padding='same')(c2)\n",
    "    p2 = layers.MaxPooling2D((2,2))(c2)\n",
    "\n",
    "    c3 = layers.Conv2D(256, (3,3), activation='relu', padding='same')(p2)\n",
    "    c3 = layers.Conv2D(256, (3,3), activation='relu', padding='same')(c3)\n",
    "    p3 = layers.MaxPooling2D((2,2))(c3)\n",
    "\n",
    "    c4 = layers.Conv2D(512, (3,3), activation='relu', padding='same')(p3)\n",
    "    c4 = layers.Conv2D(512, (3,3), activation='relu', padding='same')(c4)\n",
    "    p4 = layers.MaxPooling2D((2,2))(c4)\n",
    "\n",
    "    # --- Bottleneck ---\n",
    "    c5 = layers.Conv2D(1024, (3,3), activation='relu', padding='same')(p4)\n",
    "    c5 = layers.Conv2D(1024, (3,3), activation='relu', padding='same')(c5)\n",
    "\n",
    "    # --- Expansive Path ---\n",
    "    u6 = layers.UpSampling2D((2,2))(c5)\n",
    "    u6 = layers.concatenate([u6, c4])\n",
    "    c6 = layers.Conv2D(512, (3,3), activation='relu', padding='same')(u6)\n",
    "    c6 = layers.Conv2D(512, (3,3), activation='relu', padding='same')(c6)\n",
    "\n",
    "    u7 = layers.UpSampling2D((2,2))(c6)\n",
    "    u7 = layers.concatenate([u7, c3])\n",
    "    c7 = layers.Conv2D(256, (3,3), activation='relu', padding='same')(u7)\n",
    "    c7 = layers.Conv2D(256, (3,3), activation='relu', padding='same')(c7)\n",
    "\n",
    "    u8 = layers.UpSampling2D((2,2))(c7)\n",
    "    u8 = layers.concatenate([u8, c2])\n",
    "    c8 = layers.Conv2D(128, (3,3), activation='relu', padding='same')(u8)\n",
    "    c8 = layers.Conv2D(128, (3,3), activation='relu', padding='same')(c8)\n",
    "\n",
    "    u9 = layers.UpSampling2D((2,2))(c8)\n",
    "    u9 = layers.concatenate([u9, c1])\n",
    "    c9 = layers.Conv2D(64, (3,3), activation='relu', padding='same')(u9)\n",
    "    c9 = layers.Conv2D(64, (3,3), activation='relu', padding='same')(c9)\n",
    "\n",
    "    # --- Output Layer ---\n",
    "    outputs = layers.Conv2D(num_classes, (1,1), activation='softmax')(c9)\n",
    "\n",
    "    model = models.Model(inputs=[inputs], outputs=[outputs])\n",
    "\n",
    "    return model\n",
    "\n",
    "def build_segformer(input_shape=(512, 512, 4), num_classes=6):\n",
    "    # Placeholder - You will replace with actual SegFormer loading (Huggingface transformers)\n",
    "    raise NotImplementedError(\"SegFormer model building not yet implemented.\")\n"
   ]
  }
 ],
 "metadata": {
  "colab": {
   "authorship_tag": "ABX9TyPdEbicH3hTacctqMBAkyLk",
   "mount_file_id": "1O8D9sKuR6RRfxuisx8awj21FxGx_wScV",
   "provenance": []
  },
  "kernelspec": {
   "display_name": "Python 3",
   "name": "python3"
  },
  "language_info": {
   "name": "python"
  }
 },
 "nbformat": 4,
 "nbformat_minor": 0
}
