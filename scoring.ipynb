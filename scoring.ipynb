{
 "cells": [
  {
   "cell_type": "code",
   "execution_count": null,
   "metadata": {
    "id": "e5Pup5vv_c2R"
   },
   "outputs": [],
   "source": [
    "import numpy as np\n",
    "from sklearn.metrics import classification_report, confusion_matrix\n",
    "import matplotlib.pyplot as plt\n",
    "import seaborn as sns\n",
    "\n",
    "def test_scoring_sanity():\n",
    "    print(\"✅ from scoring.ipynb\")\n",
    "\n",
    "def evaluate_predictions(pred_mask, true_mask):\n",
    "    \"\"\"\n",
    "    Compare predicted and true class masks and print evaluation metrics.\n",
    "    Expects:\n",
    "    - pred_mask: 2D array of predicted class indices\n",
    "    - true_mask: 2D array of ground truth class indices\n",
    "    \"\"\"\n",
    "    print(\"🔎 Evaluating predictions...\")\n",
    "\n",
    "    pred_flat = pred_mask.flatten()\n",
    "    true_flat = true_mask.flatten()\n",
    "\n",
    "    if pred_flat.shape != true_flat.shape:\n",
    "        raise ValueError(\"Prediction and ground truth shapes don't match.\")\n",
    "\n",
    "    print(\"📈 Classification Report:\")\n",
    "    print(classification_report(true_flat, pred_flat, labels=np.arange(6), zero_division=0))\n",
    "\n",
    "    print(\"\\n🌀 Confusion Matrix:\")\n",
    "    cm = confusion_matrix(true_flat, pred_flat, labels=np.arange(6))\n",
    "    plt.figure(figsize=(6, 5))\n",
    "    sns.heatmap(cm, annot=True, fmt='d', cmap='Blues', xticklabels=np.arange(6), yticklabels=np.arange(6))\n",
    "    plt.xlabel(\"Predicted\")\n",
    "    plt.ylabel(\"True\")\n",
    "    plt.title(\"Confusion Matrix\")\n",
    "    plt.tight_layout()\n",
    "    plt.show()\n"
   ]
  }
 ],
 "metadata": {
  "colab": {
   "authorship_tag": "ABX9TyOIvhFb8l65g0rsyWayDedf",
   "provenance": []
  },
  "kernelspec": {
   "display_name": "Python 3",
   "name": "python3"
  },
  "language_info": {
   "name": "python"
  }
 },
 "nbformat": 4,
 "nbformat_minor": 0
}
